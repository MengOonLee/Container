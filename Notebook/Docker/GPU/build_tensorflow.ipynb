{
  "cells": [
    {
      "cell_type": "markdown",
      "metadata": {
        "id": "view-in-github",
        "colab_type": "text"
      },
      "source": [
        "<a href=\"https://colab.research.google.com/github/MengOonLee/Container/blob/main/Notebook/Docker/GPU/build_tensorflow.ipynb\" target=\"_parent\"><img src=\"https://colab.research.google.com/assets/colab-badge.svg\" alt=\"Open In Colab\"/></a>"
      ]
    },
    {
      "cell_type": "code",
      "source": [
        "%%writefile run_notebook.sh\n",
        "#!/bin/bash\n",
        "\n",
        "docker run --gpus all --rm -it \\\n",
        "  -p 8888:8888 \\\n",
        "  -p 8050:8050 \\\n",
        "  -v $PWD:/Work \\\n",
        "  -w /Work \\\n",
        "  tensorflow/tensorflow:latest-gpu \\\n",
        "  bash -c \"\n",
        "    python3 -m venv venv;\n",
        "    source venv/bin/activate;\n",
        "    pip install --no-cache-dir -U \\\n",
        "      pip wheel build jupyterlab \\\n",
        "      numpy pandas pyarrow scikit-learn \\\n",
        "      apache-beam[interactive] \\\n",
        "      matplotlib seaborn dash \\\n",
        "      tensorflow tensorflow-datasets tensorflow-probability \\\n",
        "      torch torchvision torchaudio;\n",
        "    pip check;\n",
        "    ipython kernel install --user --name=venv;\n",
        "    jupyter-lab \\\n",
        "      --ip=0.0.0.0 \\\n",
        "      --port=8888 \\\n",
        "      --no-browser \\\n",
        "      --allow-root \\\n",
        "      --ContentsManager.allow_hidden=True\n",
        "  \""
      ],
      "metadata": {
        "id": "tvcEu3J8Mhyc"
      },
      "id": "tvcEu3J8Mhyc",
      "execution_count": null,
      "outputs": []
    },
    {
      "cell_type": "code",
      "execution_count": null,
      "id": "81b6ff8d-dd05-47e0-a9f7-72d418f1910c",
      "metadata": {
        "id": "81b6ff8d-dd05-47e0-a9f7-72d418f1910c",
        "outputId": "4bb3d50c-8b99-4f8d-8e49-63fad80b786a"
      },
      "outputs": [
        {
          "name": "stdout",
          "output_type": "stream",
          "text": [
            "Overwriting fix-permissions\n"
          ]
        }
      ],
      "source": [
        "%%writefile fix-permissions\n",
        "#!/bin/bash\n",
        "\n",
        "set -e\n",
        "\n",
        "for d in \"$@\"; do\n",
        "    find \"${d}\" \\\n",
        "        ! \\( \\\n",
        "            -group \"${NB_GID}\" \\\n",
        "            -a -perm -g+rwX \\\n",
        "        \\) \\\n",
        "        -exec chgrp \"${NB_GID}\" {} \\; \\\n",
        "        -exec chmod g+rwX {} \\;\n",
        "    # setuid, setgid *on directories only*\n",
        "    find \"${d}\" \\\n",
        "        \\( \\\n",
        "            -type d \\\n",
        "            -a ! -perm -6000 \\\n",
        "        \\) \\\n",
        "        -exec chmod +6000 {} \\;\n",
        "done"
      ]
    },
    {
      "cell_type": "code",
      "execution_count": null,
      "id": "a9a072f5-07ab-46a1-9001-f8d3db4ebc89",
      "metadata": {
        "id": "a9a072f5-07ab-46a1-9001-f8d3db4ebc89",
        "outputId": "6bda63ce-1333-402f-b177-82b181a66188"
      },
      "outputs": [
        {
          "name": "stdout",
          "output_type": "stream",
          "text": [
            "Overwriting Dockerfile\n"
          ]
        }
      ],
      "source": [
        "%%writefile Dockerfile\n",
        "ARG BASE=tensorflow/tensorflow:latest-gpu\n",
        "FROM $BASE\n",
        "\n",
        "ARG NB_USER=meng\n",
        "ARG NB_UID=1000\n",
        "ARG NB_GID=100\n",
        "\n",
        "ENV SHELL=/bin/bash\n",
        "ENV NB_USER=$NB_USER\n",
        "ENV NB_UID=$NB_UID\n",
        "ENV NB_GID=$NB_GID\n",
        "ENV HOME=/home/$NB_USER\n",
        "ENV VENV=$HOME/venv\n",
        "ENV PATH=$VENV/bin:$PATH\n",
        "ENV JAVA_HOME=/usr/lib/jvm/java-11-openjdk-amd64\n",
        "\n",
        "COPY fix-permissions /usr/local/bin/fix-permissions\n",
        "\n",
        "ENV DEBIAN_FRONTEND noninteractive\n",
        "RUN apt-get update -y \\\n",
        "    && apt-get upgrade -y \\\n",
        "    && apt-get autoremove --purge -y \\\n",
        "    && apt-get install -y \\\n",
        "        python3 \\\n",
        "        python3-venv \\\n",
        "        pandoc \\\n",
        "        texlive-xetex \\\n",
        "        texlive-fonts-recommended \\\n",
        "        texlive-plain-generic \\\n",
        "        texlive-latex-extra \\\n",
        "        texlive-science \\\n",
        "        openjdk-11-jre-headless \\\n",
        "    && pip freeze | xargs pip uninstall -y \\\n",
        "    && apt-get update -y \\\n",
        "    && apt-get upgrade -y \\\n",
        "    && apt-get autoremove --purge -y \\\n",
        "    && apt-get autoclean -y && apt-get clean -y \\\n",
        "    && rm -rf /var/lib/apt/lists/* \\\n",
        "    && update-alternatives --config java \\\n",
        "    && chmod a+rx /usr/local/bin/fix-permissions \\\n",
        "    && useradd -l -m -s /bin/bash -N -u $NB_UID $NB_USER \\\n",
        "    && mkdir -p $HOME \\\n",
        "    && chown $NB_USER:$NB_GID $HOME \\\n",
        "    && chmod g+w /etc/passwd \\\n",
        "    && fix-permissions $HOME\n",
        "\n",
        "USER $NB_UID\n",
        "\n",
        "WORKDIR $HOME\n",
        "\n",
        "RUN python3 -m venv $VENV \\\n",
        "    && python3 -m pip install --no-cache-dir -U pip wheel \\\n",
        "    && pip check \\\n",
        "    && rm -rf .cache"
      ]
    },
    {
      "cell_type": "code",
      "execution_count": null,
      "id": "96194ca9-cf0f-40b1-9a61-8538813aa3e6",
      "metadata": {
        "id": "96194ca9-cf0f-40b1-9a61-8538813aa3e6",
        "outputId": "8b3189a6-8eee-4d95-abd8-10df1729b801"
      },
      "outputs": [
        {
          "name": "stdout",
          "output_type": "stream",
          "text": [
            "Overwriting build.sh\n"
          ]
        }
      ],
      "source": [
        "%%writefile build.sh\n",
        "#!/bin/bash\n",
        "\n",
        "export REPOSITORY=darklemon\n",
        "export IMAGE=tensorflow-gpu\n",
        "export TAG=latest\n",
        "\n",
        "docker build . --no-cache --pull \\\n",
        "-f Dockerfile \\\n",
        "-t $REPOSITORY/$IMAGE:$TAG\n",
        "\n",
        "# docker push $REPOSITORY/$IMAGE:$TAG"
      ]
    },
    {
      "cell_type": "code",
      "execution_count": null,
      "id": "fceaa12e-728b-4700-ab1c-4d4cc7fe9087",
      "metadata": {
        "id": "fceaa12e-728b-4700-ab1c-4d4cc7fe9087",
        "outputId": "ef9c330f-94e5-472a-e316-f2a9c022178a"
      },
      "outputs": [
        {
          "name": "stdout",
          "output_type": "stream",
          "text": [
            "Overwriting /home/meng/Work/run_tensorflow.sh\n"
          ]
        }
      ],
      "source": [
        "%%writefile /home/meng/Work/run_tensorflow.sh\n",
        "#!/bin/bash\n",
        "\n",
        "docker run --gpus all --rm -it -p 8888:8888 -v $PWD:/home/meng/Work darklemon/tensorflow-gpu:latest"
      ]
    },
    {
      "cell_type": "code",
      "execution_count": null,
      "id": "3968907c",
      "metadata": {
        "id": "3968907c",
        "outputId": "73a74f98-b45f-4341-da85-61f48e951f48"
      },
      "outputs": [
        {
          "name": "stdout",
          "output_type": "stream",
          "text": [
            "Overwriting /home/meng/Work/run_notebook.sh\n"
          ]
        }
      ],
      "source": [
        "%%writefile /home/meng/Work/run_notebook.sh\n",
        "#!/bin/bash\n",
        "\n",
        "# pip install --no-cache-dir -U \\\n",
        "#    pip wheel build notebook\n",
        "pip check\n",
        "ipython kernel install --user --name=env\n",
        "jupyter notebook \\\n",
        "    --ip 0.0.0.0 --port 8888 \\\n",
        "    --no-browser --allow-root"
      ]
    }
  ],
  "metadata": {
    "kernelspec": {
      "display_name": "Python 3 (ipykernel)",
      "language": "python",
      "name": "python3"
    },
    "language_info": {
      "codemirror_mode": {
        "name": "ipython",
        "version": 3
      },
      "file_extension": ".py",
      "mimetype": "text/x-python",
      "name": "python",
      "nbconvert_exporter": "python",
      "pygments_lexer": "ipython3",
      "version": "3.8.10"
    },
    "colab": {
      "provenance": [],
      "include_colab_link": true
    }
  },
  "nbformat": 4,
  "nbformat_minor": 5
}