{
 "cells": [
  {
   "cell_type": "code",
   "execution_count": 1,
   "id": "3344a916-8cc3-4430-81b0-0612de422660",
   "metadata": {},
   "outputs": [
    {
     "name": "stdout",
     "output_type": "stream",
     "text": [
      "Writing install.sh\n"
     ]
    }
   ],
   "source": [
    "%%writefile install.sh\n",
    "#!/bin/bash\n",
    "\n",
    "sudo snap install microk8s \\\n",
    "--classic \\\n",
    "--channel=latest/stable\n",
    "\n",
    "sudo apt-get install -y iptables-persistent\n",
    "sudo iptables -P FORWARD ACCEPT\n",
    "\n",
    "sudo usermod -a -G microk8s $USER\n",
    "sudo chown -f -R $USER ~/.kube\n",
    "su - $USER\n",
    "\n",
    "microk8s status --wait-ready\n",
    "microk8s enable helm3 hostpath-storage gpu\n",
    "microk8s inspect"
   ]
  }
 ],
 "metadata": {
  "kernelspec": {
   "display_name": "Python 3 (ipykernel)",
   "language": "python",
   "name": "python3"
  },
  "language_info": {
   "codemirror_mode": {
    "name": "ipython",
    "version": 3
   },
   "file_extension": ".py",
   "mimetype": "text/x-python",
   "name": "python",
   "nbconvert_exporter": "python",
   "pygments_lexer": "ipython3",
   "version": "3.8.10"
  }
 },
 "nbformat": 4,
 "nbformat_minor": 5
}
