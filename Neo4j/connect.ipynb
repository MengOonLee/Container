{
 "cells": [
  {
   "cell_type": "code",
   "execution_count": 1,
   "id": "36bd7166-4ff4-4b98-bdec-7046c5ac3b97",
   "metadata": {},
   "outputs": [
    {
     "name": "stdout",
     "output_type": "stream",
     "text": [
      "171\n"
     ]
    }
   ],
   "source": [
    "from neo4j import GraphDatabase\n",
    "\n",
    "uri = \"bolt://192.168.0.103:7687\"\n",
    "user = \"neo4j\"\n",
    "password = \"neo4j-123\"\n",
    "\n",
    "driver = GraphDatabase.driver(uri, auth=(user, password))\n",
    "with driver.session(database=\"mymovie\") as session:\n",
    "    result = session.run(\"MATCH (n) RETURN COUNT(n) AS count\")\n",
    "    count = [record[\"count\"] for record in result]\n",
    "\n",
    "driver.close()\n",
    "print(count[0])"
   ]
  }
 ],
 "metadata": {
  "kernelspec": {
   "display_name": "Python 3 (ipykernel)",
   "language": "python",
   "name": "python3"
  },
  "language_info": {
   "codemirror_mode": {
    "name": "ipython",
    "version": 3
   },
   "file_extension": ".py",
   "mimetype": "text/x-python",
   "name": "python",
   "nbconvert_exporter": "python",
   "pygments_lexer": "ipython3",
   "version": "3.8.0"
  }
 },
 "nbformat": 4,
 "nbformat_minor": 5
}
