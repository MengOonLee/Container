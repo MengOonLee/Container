{
 "cells": [
  {
   "cell_type": "markdown",
   "id": "9028e981-9446-472d-b9b8-4b28376d6c48",
   "metadata": {},
   "source": [
    "# CloudBeaver"
   ]
  },
  {
   "cell_type": "markdown",
   "id": "ad5153fb-4f36-40b0-8c71-d75dbe10a0ad",
   "metadata": {},
   "source": [
    "### Persistent volume"
   ]
  },
  {
   "cell_type": "code",
   "execution_count": null,
   "id": "a6bdb82c-077c-41b2-8822-eae80ce84c8e",
   "metadata": {},
   "outputs": [],
   "source": [
    "%%writefile pv_workspace.yaml\n",
    "apiVersion: v1\n",
    "kind: PersistentVolume\n",
    "metadata:\n",
    "  name: cloudbeaver-workspace\n",
    "  labels:\n",
    "    type: local\n",
    "spec:\n",
    "  storageClassName: microk8s-hostpath\n",
    "  accessModes: [\"ReadWriteOnce\"]\n",
    "  capacity:\n",
    "    storage: 5Gi\n",
    "  hostPath:\n",
    "    type: DirectoryOrCreate\n",
    "    path: /home/meng/Work/cloudbeaver/workspace"
   ]
  },
  {
   "cell_type": "code",
   "execution_count": null,
   "id": "a1d3c76a-e752-465a-a6c3-fabb2c87d86f",
   "metadata": {},
   "outputs": [],
   "source": [
    "%%writefile pvc_workspace.yaml\n",
    "apiVersion: v1\n",
    "kind: PersistentVolumeClaim\n",
    "metadata:\n",
    "  name: cloudbeaver-workspace\n",
    "  namespace: cloudbeaver\n",
    "spec:\n",
    "  storageClassName: microk8s-hostpath\n",
    "  volumeName: cloudbeaver-workspace\n",
    "  accessModes: [\"ReadWriteOnce\"]\n",
    "  resources:\n",
    "    requests:\n",
    "      storage: 5Gi"
   ]
  },
  {
   "cell_type": "markdown",
   "id": "a447d164-ec2d-4aa1-acd1-7142855f2d42",
   "metadata": {},
   "source": [
    "### Deployment"
   ]
  },
  {
   "cell_type": "code",
   "execution_count": null,
   "id": "7956c2aa-58d6-4228-8fbb-f3e2c07374f7",
   "metadata": {},
   "outputs": [],
   "source": [
    "%%writefile deployment.yaml\n",
    "apiVersion: apps/v1\n",
    "kind: Deployment\n",
    "metadata:\n",
    "  name: cloudbeaver\n",
    "  namespace: cloudbeaver\n",
    "  labels:\n",
    "    app: cloudbeaver\n",
    "spec:\n",
    "  replicas: 1\n",
    "  selector:\n",
    "    matchLabels:\n",
    "      app: cloudbeaver\n",
    "  template:\n",
    "    metadata:\n",
    "      labels:\n",
    "        app: cloudbeaver\n",
    "    spec:\n",
    "      containers:\n",
    "      - name: cloudbeaver\n",
    "        image: dbeaver/cloudbeaver:latest\n",
    "        ports:\n",
    "        - containerPort: 8978\n",
    "        volumeMounts:\n",
    "        - name: cloudbeaver-workspace\n",
    "          mountPath: /opt/cloudbeaver/workspace\n",
    "      volumes:\n",
    "        - name: cloudbeaver-workspace\n",
    "          persistentVolumeClaim:\n",
    "            claimName: cloudbeaver-workspace"
   ]
  },
  {
   "cell_type": "markdown",
   "id": "11734d5b-05dc-4762-83a8-349659b41f2a",
   "metadata": {},
   "source": [
    "### Service"
   ]
  },
  {
   "cell_type": "code",
   "execution_count": null,
   "id": "9725a5cb-3ca1-4008-8800-2d73a8c26338",
   "metadata": {},
   "outputs": [],
   "source": [
    "%%writefile service.yaml\n",
    "apiVersion: v1\n",
    "kind: Service\n",
    "metadata:\n",
    "  name: web\n",
    "  namespace: cloudbeaver\n",
    "  labels:\n",
    "    run: cloudbeaver\n",
    "spec:\n",
    "  type: NodePort\n",
    "  selector:\n",
    "    app: cloudbeaver\n",
    "  ports:\n",
    "  - port: 8978\n",
    "    nodePort: 30001"
   ]
  },
  {
   "cell_type": "markdown",
   "id": "d3611a84-bcae-41cf-bd99-0823a81b6c0b",
   "metadata": {},
   "source": [
    "### Install"
   ]
  },
  {
   "cell_type": "code",
   "execution_count": null,
   "id": "4a131f54-b892-425e-90fa-6a1039069d54",
   "metadata": {},
   "outputs": [],
   "source": [
    "%%writefile install.sh\n",
    "#!/bin/bash\n",
    "\n",
    "microk8s kubectl create namespace cloudbeaver\n",
    "microk8s kubectl create -f pv_workspace.yaml\n",
    "microk8s kubectl create -f pvc_workspace.yaml\n",
    "microk8s kubectl create -f deployment.yaml\n",
    "microk8s kubectl create -f service.yaml"
   ]
  },
  {
   "cell_type": "markdown",
   "id": "93fdbcdf-c6b5-42fb-8ff1-ed8de802fcf6",
   "metadata": {},
   "source": [
    "### Uninstall"
   ]
  },
  {
   "cell_type": "code",
   "execution_count": null,
   "id": "eb8f7e2e-b68e-4047-8ab5-f785b36e6a84",
   "metadata": {},
   "outputs": [],
   "source": [
    "%%writefile uninstall.sh\n",
    "#!/bin/bash\n",
    "\n",
    "microk8s kubectl delete namespace cloudbeaver\n",
    "microk8s kubectl delete -f pv_workspace.yaml"
   ]
  }
 ],
 "metadata": {
  "kernelspec": {
   "display_name": "Python 3 (ipykernel)",
   "language": "python",
   "name": "python3"
  },
  "language_info": {
   "codemirror_mode": {
    "name": "ipython",
    "version": 3
   },
   "file_extension": ".py",
   "mimetype": "text/x-python",
   "name": "python",
   "nbconvert_exporter": "python",
   "pygments_lexer": "ipython3",
   "version": "3.8.10"
  }
 },
 "nbformat": 4,
 "nbformat_minor": 5
}
