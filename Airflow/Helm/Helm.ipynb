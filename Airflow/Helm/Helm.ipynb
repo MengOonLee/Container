{
 "cells": [
  {
   "cell_type": "markdown",
   "id": "36a4530f-e66e-4989-a766-7acfd80fa471",
   "metadata": {},
   "source": [
    "## Namespace"
   ]
  },
  {
   "cell_type": "code",
   "execution_count": null,
   "id": "712842aa-311c-4cf2-ac5e-1a13ec4a460e",
   "metadata": {},
   "outputs": [],
   "source": [
    "%%writefile namespace.yaml\n",
    "apiVersion: v1\n",
    "kind: Namespace\n",
    "metadata:\n",
    "  name: airflow"
   ]
  },
  {
   "cell_type": "markdown",
   "id": "cb0b83eb-caac-4407-b4ac-2734853aa971",
   "metadata": {},
   "source": [
    "## Install"
   ]
  },
  {
   "cell_type": "code",
   "execution_count": 1,
   "id": "d6c70faf-bf90-4294-a9c0-b5ba03dd75d7",
   "metadata": {},
   "outputs": [
    {
     "name": "stdout",
     "output_type": "stream",
     "text": [
      "Overwriting install.sh\n"
     ]
    }
   ],
   "source": [
    "%%writefile install.sh\n",
    "#!/bin/bash\n",
    "\n",
    "microk8s helm3 repo add apache-airflow https://airflow.apache.org\n",
    "microk8s helm3 repo update\n",
    "microk8s kubectl create -f namespace.yaml\n",
    "\n",
    "microk8s helm3 install airflow apache-airflow/airflow \\\n",
    "--namespace airflow \\\n",
    "--set executor=CeleryKubernetesExecutor"
   ]
  },
  {
   "cell_type": "markdown",
   "id": "9edf9361-2063-4592-a542-9152038ff555",
   "metadata": {},
   "source": [
    "## DAG"
   ]
  },
  {
   "cell_type": "code",
   "execution_count": null,
   "id": "672299ee-dc41-4d30-9543-1715769fede1",
   "metadata": {},
   "outputs": [],
   "source": [
    "%%writefile test_dag.py\n",
    "from datetime import datetime, timedelta\n",
    "\n",
    "from airflow.models.dag import DAG\n",
    "from airflow.operators.dummy import DummyOperator\n",
    "from airflow.utils.dates import days_ago\n",
    "\n",
    "now = datetime.now()\n",
    "now_to_the_hour = (now - timedelta(0, 0, 0, 0, 0, 3)).replace(minute=0, second=0, microsecond=0)\n",
    "START_DATE = now_to_the_hour\n",
    "DAG_NAME = 'test_dag_v1'\n",
    "\n",
    "default_args = {'owner': 'airflow', 'depends_on_past': True, 'start_date': days_ago(1)}\n",
    "dag = DAG(DAG_NAME, schedule_interval='0 0 * * *', default_args=default_args)\n",
    "\n",
    "run_this_1 = DummyOperator(task_id='run_this_1', dag=dag)\n",
    "run_this_2 = DummyOperator(task_id='run_this_2', dag=dag)\n",
    "run_this_2.set_upstream(run_this_1)\n",
    "run_this_3 = DummyOperator(task_id='run_this_3', dag=dag)\n",
    "run_this_3.set_upstream(run_this_2)"
   ]
  },
  {
   "cell_type": "markdown",
   "id": "135d7178-f267-40d6-817b-fb1b6f8fd090",
   "metadata": {},
   "source": [
    "## Docker"
   ]
  },
  {
   "cell_type": "code",
   "execution_count": null,
   "id": "603744e5-c294-4a73-bf95-49630ee8addb",
   "metadata": {},
   "outputs": [],
   "source": [
    "%%writefile requirements.txt\n",
    "apache-airflow-providers-microsoft-mssql\n",
    "apache-airflow-providers-mysql\n",
    "apache-airflow-providers-neo4j\n",
    "apache-airflow-providers-apache-beam\n",
    "apache-airflow-providers-google"
   ]
  },
  {
   "cell_type": "code",
   "execution_count": null,
   "id": "a7447ba2-8356-445e-92af-64d2ce17e823",
   "metadata": {},
   "outputs": [],
   "source": [
    "%%writefile Dockerfile\n",
    "From apache/airflow:2.2.1-python3.8\n",
    "\n",
    "USER root\n",
    "RUN apt-get update -yqq \\\n",
    "    && apt-get install -yqq --no-install-recommends \\\n",
    "        build-essential \\\n",
    "    && apt-get upgrade -yqq \\\n",
    "    && apt-get autoremove --purge -yqq \\\n",
    "    && apt-get autoclean -yqq \\\n",
    "    && rm -rf /var/lib/apt/lists/*\n",
    "\n",
    "COPY --chown=airflow:root test_dag.py /opt/airflow/dags/\n",
    "\n",
    "USER airflow\n",
    "COPY requirements.txt .\n",
    "RUN python3 -m pip install --no-cache-dir -qU pip wheel setuptools \\\n",
    "    && python3 -m pip install --no-cache-dir -Ur requirements.txt \\\n",
    "    && rm -rf requirements.txt"
   ]
  },
  {
   "cell_type": "code",
   "execution_count": null,
   "id": "5031a3e7-9b40-4912-a154-743d6b7a698b",
   "metadata": {},
   "outputs": [],
   "source": [
    "%%writefile build.sh\n",
    "#!/bin/bash\n",
    "\n",
    "docker build . --no-cache \\\n",
    "-f Dockerfile \\\n",
    "-t \"darklemon/test-airflow-dag:0.0.1\"\n",
    "\n",
    "docker push darklemon/test-airflow-dag:0.0.1"
   ]
  },
  {
   "cell_type": "code",
   "execution_count": null,
   "id": "4a9c737c-9b34-4ceb-8ead-cf3bda7433f0",
   "metadata": {},
   "outputs": [],
   "source": [
    "%%writefile upgrade.sh\n",
    "#!/bin/bash\n",
    "\n",
    "microk8s helm3 upgrade airflow apache-airflow/airflow \\\n",
    "--namespace airflow \\\n",
    "--set images.airflow.repository=darklemon/test-airflow-dag \\\n",
    "--set images.airflow.tag=0.0.1 \\\n",
    "--set images.airflow.pullPolicy=Always"
   ]
  },
  {
   "cell_type": "markdown",
   "id": "f31d294e-2f76-47b1-99ac-c38e0be411a0",
   "metadata": {},
   "source": [
    "## Uninstall"
   ]
  },
  {
   "cell_type": "code",
   "execution_count": null,
   "id": "fd736bbe-37ac-4909-afe6-45c173e9e514",
   "metadata": {},
   "outputs": [],
   "source": [
    "%%writefile uninstall.sh\n",
    "#!/bin/bash\n",
    "\n",
    "microk8s helm3 delete airflow \\\n",
    "--namespace airflow\n",
    "microk8s kubectl delete -f namespace.yaml\n",
    "microk8s helm3 repo rm apache-airflow"
   ]
  }
 ],
 "metadata": {
  "kernelspec": {
   "display_name": "Python 3 (ipykernel)",
   "language": "python",
   "name": "python3"
  },
  "language_info": {
   "codemirror_mode": {
    "name": "ipython",
    "version": 3
   },
   "file_extension": ".py",
   "mimetype": "text/x-python",
   "name": "python",
   "nbconvert_exporter": "python",
   "pygments_lexer": "ipython3",
   "version": "3.8.10"
  }
 },
 "nbformat": 4,
 "nbformat_minor": 5
}
