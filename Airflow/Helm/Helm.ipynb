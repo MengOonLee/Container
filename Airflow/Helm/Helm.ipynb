{
 "cells": [
  {
   "cell_type": "markdown",
   "id": "36a4530f-e66e-4989-a766-7acfd80fa471",
   "metadata": {},
   "source": [
    "## Namespace"
   ]
  },
  {
   "cell_type": "code",
   "execution_count": 1,
   "id": "712842aa-311c-4cf2-ac5e-1a13ec4a460e",
   "metadata": {},
   "outputs": [
    {
     "name": "stdout",
     "output_type": "stream",
     "text": [
      "Writing namespace.yaml\n"
     ]
    }
   ],
   "source": [
    "%%writefile namespace.yaml\n",
    "apiVersion: v1\n",
    "kind: Namespace\n",
    "metadata:\n",
    "  name: airflow"
   ]
  },
  {
   "cell_type": "markdown",
   "id": "d4bad9bc-bc4e-4f63-91ee-ead6d9447924",
   "metadata": {},
   "source": [
    "## Webserver secret key"
   ]
  },
  {
   "cell_type": "code",
   "execution_count": 2,
   "id": "d1972f9f-c011-48ec-b3a6-4398ec4ff3df",
   "metadata": {},
   "outputs": [
    {
     "name": "stdout",
     "output_type": "stream",
     "text": [
      "a7854b0369154109fb0c28ae6fee221e\n"
     ]
    }
   ],
   "source": [
    "import secrets\n",
    "print(secrets.token_hex(16))"
   ]
  },
  {
   "cell_type": "code",
   "execution_count": 3,
   "id": "ce7e816e-79cc-4cc0-ae50-f7adb555f957",
   "metadata": {},
   "outputs": [
    {
     "name": "stdout",
     "output_type": "stream",
     "text": [
      "Writing secret.yaml\n"
     ]
    }
   ],
   "source": [
    "%%writefile secret.yaml\n",
    "apiVersion: v1\n",
    "kind: Secret\n",
    "metadata:\n",
    "  name: airflow-secret\n",
    "  namespace: airflow\n",
    "data:\n",
    "  webserver-secret-key: a7854b0369154109fb0c28ae6fee221e"
   ]
  },
  {
   "cell_type": "markdown",
   "id": "b0cc5472-188d-49e7-8014-226fbb368e59",
   "metadata": {},
   "source": [
    "## Persistent Volume"
   ]
  },
  {
   "cell_type": "code",
   "execution_count": 4,
   "id": "773b0bab-a9d6-479d-acae-45d085360df5",
   "metadata": {},
   "outputs": [
    {
     "name": "stdout",
     "output_type": "stream",
     "text": [
      "Writing pv_dags.yaml\n"
     ]
    }
   ],
   "source": [
    "%%writefile pv_dags.yaml\n",
    "apiVersion: v1\n",
    "kind: PersistentVolume\n",
    "metadata:\n",
    "  name: airflow-dags\n",
    "  labels:\n",
    "    type: local\n",
    "spec:\n",
    "  storageClassName: microk8s-hostpath\n",
    "  accessModes: [\"ReadWriteMany\"]\n",
    "  capacity:\n",
    "    storage: 50Gi\n",
    "  hostPath:\n",
    "    type: DirectoryOrCreate\n",
    "    path: \"/home/enlinea/Airflow/dags\""
   ]
  },
  {
   "cell_type": "code",
   "execution_count": 5,
   "id": "466a2608-fc2d-4fb7-aaab-7a72ce0a0f31",
   "metadata": {},
   "outputs": [
    {
     "name": "stdout",
     "output_type": "stream",
     "text": [
      "Writing pvc_dags.yaml\n"
     ]
    }
   ],
   "source": [
    "%%writefile pvc_dags.yaml\n",
    "apiVersion: v1\n",
    "kind: PersistentVolumeClaim\n",
    "metadata:\n",
    "  name: airflow-dags\n",
    "  namespace: airflow\n",
    "spec:\n",
    "  storageClassName: microk8s-hostpath\n",
    "  volumeName: airflow-dags\n",
    "  accessModes: [\"ReadWriteMany\"]\n",
    "  resources:\n",
    "    requests:\n",
    "      storage: 50Gi"
   ]
  },
  {
   "cell_type": "markdown",
   "id": "fcdbd1e7-84b9-456f-ba4b-fe1408b43bf7",
   "metadata": {},
   "source": [
    "## Images"
   ]
  },
  {
   "cell_type": "code",
   "execution_count": 6,
   "id": "603744e5-c294-4a73-bf95-49630ee8addb",
   "metadata": {},
   "outputs": [
    {
     "name": "stdout",
     "output_type": "stream",
     "text": [
      "Writing requirements.txt\n"
     ]
    }
   ],
   "source": [
    "%%writefile requirements.txt\n",
    "apache-airflow-providers-microsoft-mssql\n",
    "apache-airflow-providers-mysql\n",
    "apache-airflow-providers-apache-beam\n",
    "apache-airflow-providers-google"
   ]
  },
  {
   "cell_type": "code",
   "execution_count": 9,
   "id": "397513d8-52cb-46a5-864d-9d414da0ff10",
   "metadata": {},
   "outputs": [
    {
     "name": "stdout",
     "output_type": "stream",
     "text": [
      "Overwriting Dockerfile\n"
     ]
    }
   ],
   "source": [
    "%%writefile Dockerfile\n",
    "FROM apache/airflow:latest-python3.8\n",
    "\n",
    "USER root\n",
    "\n",
    "RUN apt-get update -yqq \\\n",
    "    && apt-get install -yqq --no-install-recommends \\\n",
    "        build-essential \\\n",
    "    && apt-get upgrade -yqq \\\n",
    "    && apt-get autoremove --purge -yqq \\\n",
    "    && apt-get autoclean -yqq \\\n",
    "    && rm -rf /var/lib/apt/lists\n",
    "\n",
    "USER airflow\n",
    "COPY requirements.txt .\n",
    "\n",
    "RUN python3 -m pip install --upgrade pip \\\n",
    "    && python3 -m pip install --no-cache-dir -qUr requirements.txt \\\n",
    "    && pip check \\\n",
    "    && rm -rf requirements.txt"
   ]
  },
  {
   "cell_type": "markdown",
   "id": "ce87df14-6716-41ae-bcfb-97d9c8d3111d",
   "metadata": {},
   "source": [
    "## Install"
   ]
  },
  {
   "cell_type": "code",
   "execution_count": 6,
   "id": "72b19616-4b9c-462c-b65f-2b37536f6f6d",
   "metadata": {},
   "outputs": [
    {
     "name": "stdout",
     "output_type": "stream",
     "text": [
      "Overwriting override.yaml\n"
     ]
    }
   ],
   "source": [
    "%%writefile override.yaml\n",
    "executor: \"CeleryKubernetesExecutor\"\n",
    "\n",
    "webserverSecretKeySecretName: \"airflow-secret\"\n",
    "\n",
    "# webserver-service\n",
    "webserver:\n",
    "  service:\n",
    "    type: NodePort\n",
    "    ports:\n",
    "    - name: airflow-ui\n",
    "      port: 8080\n",
    "      nodePort: 30003\n",
    "    \n",
    "# repository\n",
    "images:\n",
    "  airflow:\n",
    "    repository: \"darklemon/airflow\"\n",
    "    tag: \"latest\"\n",
    "    pullPolicy: Always\n",
    "    \n",
    "# dags\n",
    "dags:\n",
    "  persistence:\n",
    "    enabled: true\n",
    "    existingClaim: airflow-dags"
   ]
  },
  {
   "cell_type": "code",
   "execution_count": 7,
   "id": "d6c70faf-bf90-4294-a9c0-b5ba03dd75d7",
   "metadata": {},
   "outputs": [
    {
     "name": "stdout",
     "output_type": "stream",
     "text": [
      "Overwriting install.sh\n"
     ]
    }
   ],
   "source": [
    "%%writefile install.sh\n",
    "#!/bin/bash\n",
    "\n",
    "export REPOSITORY=\"darklemon\"\n",
    "export IMAGE=\"airflow\"\n",
    "export TAG=\"latest\"\n",
    "\n",
    "docker build . --no-cache \\\n",
    "-f Dockerfile \\\n",
    "-t $REPOSITORY/$IMAGE:$TAG\n",
    "\n",
    "docker push $REPOSITORY/$IMAGE:$TAG\n",
    "\n",
    "microk8s helm3 repo add apache-airflow https://airflow.apache.org\n",
    "microk8s helm3 repo update\n",
    "microk8s kubectl create -f namespace.yaml\n",
    "microk8s kubectl create -f pv_dags.yaml\n",
    "microk8s kubectl create -f pvc_dags.yaml\n",
    "microk8s kubectl create -f secret.yaml\n",
    "\n",
    "microk8s helm3 install airflow apache-airflow/airflow \\\n",
    "--namespace airflow \\\n",
    "-f override.yaml"
   ]
  },
  {
   "cell_type": "markdown",
   "id": "f31d294e-2f76-47b1-99ac-c38e0be411a0",
   "metadata": {},
   "source": [
    "## Uninstall"
   ]
  },
  {
   "cell_type": "code",
   "execution_count": 8,
   "id": "fd736bbe-37ac-4909-afe6-45c173e9e514",
   "metadata": {},
   "outputs": [
    {
     "name": "stdout",
     "output_type": "stream",
     "text": [
      "Overwriting uninstall.sh\n"
     ]
    }
   ],
   "source": [
    "%%writefile uninstall.sh\n",
    "#!/bin/bash\n",
    "\n",
    "microk8s helm3 delete airflow \\\n",
    "--namespace airflow\n",
    "microk8s kubectl delete -f namespace.yaml\n",
    "microk8s kubectl delete -f pv_dags.yaml\n",
    "microk8s helm3 repo rm apache-airflow"
   ]
  }
 ],
 "metadata": {
  "kernelspec": {
   "display_name": "Python 3 (ipykernel)",
   "language": "python",
   "name": "python3"
  },
  "language_info": {
   "codemirror_mode": {
    "name": "ipython",
    "version": 3
   },
   "file_extension": ".py",
   "mimetype": "text/x-python",
   "name": "python",
   "nbconvert_exporter": "python",
   "pygments_lexer": "ipython3",
   "version": "3.8.10"
  }
 },
 "nbformat": 4,
 "nbformat_minor": 5
}
