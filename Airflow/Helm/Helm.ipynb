{
 "cells": [
  {
   "cell_type": "markdown",
   "id": "b0cc5472-188d-49e7-8014-226fbb368e59",
   "metadata": {},
   "source": [
    "## Persistent Volume"
   ]
  },
  {
   "cell_type": "code",
   "execution_count": 1,
   "id": "773b0bab-a9d6-479d-acae-45d085360df5",
   "metadata": {},
   "outputs": [
    {
     "name": "stdout",
     "output_type": "stream",
     "text": [
      "Writing pv_dags.yaml\n"
     ]
    }
   ],
   "source": [
    "%%writefile pv_dags.yaml\n",
    "apiVersion: v1\n",
    "kind: PersistentVolume\n",
    "metadata:\n",
    "  name: airflow-dags\n",
    "  labels:\n",
    "    type: local\n",
    "spec:\n",
    "  storageClassName: microk8s-hostpath\n",
    "  accessModes: [\"ReadWriteMany\"]\n",
    "  capacity:\n",
    "    storage: 20Gi\n",
    "  hostPath:\n",
    "    type: DirectoryOrCreate\n",
    "    path: \"/home/meng/Work/Airflow/dags\""
   ]
  },
  {
   "cell_type": "code",
   "execution_count": 2,
   "id": "466a2608-fc2d-4fb7-aaab-7a72ce0a0f31",
   "metadata": {},
   "outputs": [
    {
     "name": "stdout",
     "output_type": "stream",
     "text": [
      "Writing pvc_dags.yaml\n"
     ]
    }
   ],
   "source": [
    "%%writefile pvc_dags.yaml\n",
    "apiVersion: v1\n",
    "kind: PersistentVolumeClaim\n",
    "metadata:\n",
    "  name: airflow-dags\n",
    "  namespace: airflow\n",
    "spec:\n",
    "  storageClassName: microk8s-hostpath\n",
    "  volumeName: airflow-dags\n",
    "  accessModes: [\"ReadWriteMany\"]\n",
    "  resources:\n",
    "    requests:\n",
    "      storage: 20Gi"
   ]
  },
  {
   "cell_type": "markdown",
   "id": "c32d4915-f68a-46d2-83dd-fe99ef93421c",
   "metadata": {},
   "source": [
    "## Dags"
   ]
  },
  {
   "cell_type": "code",
   "execution_count": null,
   "id": "ba5bbf7a-4384-4e1d-b1fc-4101e7ce4b23",
   "metadata": {},
   "outputs": [],
   "source": [
    "%%writefile ~/work/Airflow/dags/tutorial.py\n",
    "import datetime\n",
    "from airflow import DAG\n",
    "from airflow.operators.bash import BashOperator\n",
    "\n",
    "with DAG(\n",
    "    dag_id=\"tutorial\",\n",
    "    start_date=datetime.datetime.today(),\n",
    "    schedule_interval=\"15 * * * *\"\n",
    ") as dag:\n",
    "\n",
    "    t1 = BashOperator(\n",
    "        task_id=\"echo\",\n",
    "        bash_command=\"echo $PWD\"\n",
    "    )\n",
    "\n",
    "    t1"
   ]
  },
  {
   "cell_type": "markdown",
   "id": "fcdbd1e7-84b9-456f-ba4b-fe1408b43bf7",
   "metadata": {},
   "source": [
    "## Images"
   ]
  },
  {
   "cell_type": "code",
   "execution_count": null,
   "id": "603744e5-c294-4a73-bf95-49630ee8addb",
   "metadata": {},
   "outputs": [],
   "source": [
    "%%writefile ~/work/Airflow/requirements.txt\n",
    "apache-airflow-providers-microsoft-mssql\n",
    "apache-airflow-providers-mysql\n",
    "apache-airflow-providers-google"
   ]
  },
  {
   "cell_type": "code",
   "execution_count": null,
   "id": "397513d8-52cb-46a5-864d-9d414da0ff10",
   "metadata": {},
   "outputs": [],
   "source": [
    "%%writefile ~/work/Airflow/Dockerfile\n",
    "FROM apache/airflow:latest\n",
    "\n",
    "USER root\n",
    "\n",
    "ENV JAVA_HOME=/usr/lib/jvm/java-11-openjdk-amd64\n",
    "\n",
    "RUN apt-get update -y \\\n",
    "    && apt-get install -y --no-install-recommends \\\n",
    "        build-essential \\\n",
    "        openjdk-11-jre-headless \\\n",
    "    && apt-get upgrade -y \\\n",
    "    && apt-get autoremove --purge -y \\\n",
    "    && apt-get autoclean -y \\\n",
    "    && rm -rf /var/lib/apt/lists/*\n",
    "\n",
    "COPY ./dags/ /opt/airflow/dags/\n",
    "\n",
    "USER airflow\n",
    "\n",
    "COPY requirements.txt .\n",
    "\n",
    "RUN python3 -m pip install --no-cache-dir -U pip wheel \\\n",
    "    && python3 -m pip install --no-cache-dir -Ur requirements.txt \\\n",
    "    && pip check \\\n",
    "    && rm -rf requirements.txt"
   ]
  },
  {
   "cell_type": "code",
   "execution_count": null,
   "id": "10102371-9b3f-4d4d-a32a-973f709dea22",
   "metadata": {},
   "outputs": [],
   "source": [
    "%%writefile ~/work/Airflow/Dockerfile\n",
    "FROM apache/airflow:latest\n",
    "\n",
    "COPY --chown=airflow:root ./dags/ /opt/airflow/dags/"
   ]
  },
  {
   "cell_type": "code",
   "execution_count": null,
   "id": "8d3517b5-cd3d-4803-8fee-770f42540e08",
   "metadata": {},
   "outputs": [],
   "source": [
    "%%writefile ~/work/Airflow/build.sh\n",
    "#!/bin/bash\n",
    "\n",
    "export REPOSITORY=darklemon\n",
    "export IMAGE=airflow\n",
    "export TAG=latest\n",
    "\n",
    "docker build . --no-cache --pull \\\n",
    "-f Dockerfile \\\n",
    "-t \"${REPOSITORY}/${IMAGE}:${TAG}\"\n",
    "\n",
    "docker push \"${REPOSITORY}/${IMAGE}:${TAG}\""
   ]
  },
  {
   "cell_type": "code",
   "execution_count": null,
   "id": "2ff8ee6d-b6b8-4055-8fd8-86e7405cfc81",
   "metadata": {},
   "outputs": [],
   "source": [
    "%%writefile ~/work/Airflow/build.sh\n",
    "#!/bin/bash\n",
    "\n",
    "export PROJECT=\"claritas-bigdata-poc\"\n",
    "export REGION=\"asia-southeast1\"\n",
    "export REPO=\"airflow\"\n",
    "export IMG=\"dags\"\n",
    "export TAG=\"0.0.1\"\n",
    "export TEMPLATE_IMG=\"${REGION}-docker.pkg.dev/${PROJECT}/${REPO}/${IMG}:${TAG}\"\n",
    "\n",
    "gcloud artifacts repositories create \"${REPO}\" \\\n",
    "--repository-format=Docker \\\n",
    "--project=\"${PROJECT}\" \\\n",
    "--location=\"${REGION}\"\n",
    "\n",
    "gcloud builds submit . \\\n",
    "--tag=\"${TEMPLATE_IMG}\""
   ]
  },
  {
   "cell_type": "markdown",
   "id": "ce87df14-6716-41ae-bcfb-97d9c8d3111d",
   "metadata": {},
   "source": [
    "## Install"
   ]
  },
  {
   "cell_type": "code",
   "execution_count": 3,
   "id": "a4cd6178-64f1-4f73-b2b3-263d965d4861",
   "metadata": {},
   "outputs": [
    {
     "name": "stdout",
     "output_type": "stream",
     "text": [
      "Overwriting override.yaml\n"
     ]
    }
   ],
   "source": [
    "%%writefile override.yaml\n",
    "# Webserver secret key\n",
    "webserverSecretKey: $(python3 -c 'import secrets; print(secrets.token_hex(16))')\n",
    "\n",
    "# Executor\n",
    "executor: CeleryKubernetesExecutor\n",
    "logs:\n",
    "  persistence:\n",
    "    enabled: true\n",
    "    \n",
    "# Webserver-service\n",
    "webserver:\n",
    "  service:\n",
    "    type: NodePort\n",
    "    ports:\n",
    "    - name: airflow-ui\n",
    "      port: 8080\n",
    "\n",
    "# dags\n",
    "dags:\n",
    "  persistence:\n",
    "    enabled: true\n",
    "    existingClaim: airflow-dags\n",
    "        \n",
    "# Images\n",
    "# images:\n",
    "#   airflow:\n",
    "#     repository: darklemon/airflow\n",
    "#     tag: latest\n",
    "#     pullPolicy: Always"
   ]
  },
  {
   "cell_type": "code",
   "execution_count": 4,
   "id": "d6c70faf-bf90-4294-a9c0-b5ba03dd75d7",
   "metadata": {},
   "outputs": [
    {
     "name": "stdout",
     "output_type": "stream",
     "text": [
      "Overwriting install.sh\n"
     ]
    }
   ],
   "source": [
    "%%writefile install.sh\n",
    "#!/bin/bash\n",
    "\n",
    "microk8s helm3 repo add apache-airflow https://airflow.apache.org\n",
    "microk8s helm3 repo update\n",
    "\n",
    "microk8s kubectl create namespace airflow\n",
    "microk8s kubectl create -f pv_dags.yaml\n",
    "microk8s kubectl create -f pvc_dags.yaml\n",
    "\n",
    "microk8s helm3 upgrade \\\n",
    "--install airflow apache-airflow/airflow \\\n",
    "--namespace airflow \\\n",
    "-f override.yaml"
   ]
  },
  {
   "cell_type": "markdown",
   "id": "f31d294e-2f76-47b1-99ac-c38e0be411a0",
   "metadata": {},
   "source": [
    "## Uninstall"
   ]
  },
  {
   "cell_type": "code",
   "execution_count": 5,
   "id": "fd736bbe-37ac-4909-afe6-45c173e9e514",
   "metadata": {},
   "outputs": [
    {
     "name": "stdout",
     "output_type": "stream",
     "text": [
      "Overwriting uninstall.sh\n"
     ]
    }
   ],
   "source": [
    "%%writefile uninstall.sh\n",
    "#!/bin/bash\n",
    "\n",
    "microk8s helm3 delete airflow \\\n",
    "--namespace airflow\n",
    "microk8s helm3 repo rm apache-airflow\n",
    "microk8s kubectl delete -f pv_dags.yaml\n",
    "microk8s kubectl delete ns airflow"
   ]
  }
 ],
 "metadata": {
  "kernelspec": {
   "display_name": "Python 3 (ipykernel)",
   "language": "python",
   "name": "python3"
  },
  "language_info": {
   "codemirror_mode": {
    "name": "ipython",
    "version": 3
   },
   "file_extension": ".py",
   "mimetype": "text/x-python",
   "name": "python",
   "nbconvert_exporter": "python",
   "pygments_lexer": "ipython3",
   "version": "3.8.10"
  }
 },
 "nbformat": 4,
 "nbformat_minor": 5
}
