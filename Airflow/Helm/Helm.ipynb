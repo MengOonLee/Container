{
 "cells": [
  {
   "cell_type": "markdown",
   "id": "b0cc5472-188d-49e7-8014-226fbb368e59",
   "metadata": {},
   "source": [
    "## Persistent Volume"
   ]
  },
  {
   "cell_type": "code",
   "execution_count": 1,
   "id": "773b0bab-a9d6-479d-acae-45d085360df5",
   "metadata": {},
   "outputs": [
    {
     "name": "stdout",
     "output_type": "stream",
     "text": [
      "Writing pv_dags.yaml\n"
     ]
    }
   ],
   "source": [
    "%%writefile pv_dags.yaml\n",
    "apiVersion: v1\n",
    "kind: PersistentVolume\n",
    "metadata:\n",
    "  name: airflow-dags\n",
    "  labels:\n",
    "    type: local\n",
    "spec:\n",
    "  storageClassName: microk8s-hostpath\n",
    "  accessModes: [\"ReadWriteMany\"]\n",
    "  capacity:\n",
    "    storage: 50Gi\n",
    "  hostPath:\n",
    "    type: DirectoryOrCreate\n",
    "    path: \"/home/meng/Work/Airflow/dags\""
   ]
  },
  {
   "cell_type": "code",
   "execution_count": 2,
   "id": "466a2608-fc2d-4fb7-aaab-7a72ce0a0f31",
   "metadata": {},
   "outputs": [
    {
     "name": "stdout",
     "output_type": "stream",
     "text": [
      "Writing pvc_dags.yaml\n"
     ]
    }
   ],
   "source": [
    "%%writefile pvc_dags.yaml\n",
    "apiVersion: v1\n",
    "kind: PersistentVolumeClaim\n",
    "metadata:\n",
    "  name: airflow-dags\n",
    "  namespace: airflow\n",
    "spec:\n",
    "  storageClassName: microk8s-hostpath\n",
    "  volumeName: airflow-dags\n",
    "  accessModes: [\"ReadWriteMany\"]\n",
    "  resources:\n",
    "    requests:\n",
    "      storage: 50Gi"
   ]
  },
  {
   "cell_type": "code",
   "execution_count": 3,
   "id": "29267a6b-d571-4a90-ae3e-ace24dac8ade",
   "metadata": {},
   "outputs": [
    {
     "name": "stdout",
     "output_type": "stream",
     "text": [
      "Writing create.sh\n"
     ]
    }
   ],
   "source": [
    "%%writefile create.sh\n",
    "#!/bin/bash\n",
    "\n",
    "microk8s helm3 repo add apache-airflow https://airflow.apache.org\n",
    "microk8s helm3 repo update\n",
    "\n",
    "microk8s kubectl create namespace airflow\n",
    "microk8s kubectl create -f pv_dags.yaml\n",
    "microk8s kubectl create -f pvc_dags.yaml"
   ]
  },
  {
   "cell_type": "markdown",
   "id": "ce87df14-6716-41ae-bcfb-97d9c8d3111d",
   "metadata": {},
   "source": [
    "## Install"
   ]
  },
  {
   "cell_type": "code",
   "execution_count": 4,
   "id": "a4cd6178-64f1-4f73-b2b3-263d965d4861",
   "metadata": {},
   "outputs": [
    {
     "name": "stdout",
     "output_type": "stream",
     "text": [
      "Writing override.yaml\n"
     ]
    }
   ],
   "source": [
    "%%writefile override.yaml\n",
    "\n",
    "# Images\n",
    "images:\n",
    "  airflow:\n",
    "    repository: darklemon/airflow\n",
    "    tag: latest\n",
    "    pullPolicy: Always\n",
    "\n",
    "# Webserver secret key\n",
    "webserverSecretKey: $(python3 -c 'import secrets; print(secrets.token_hex(16))')\n",
    "\n",
    "# Executor\n",
    "executor: CeleryKubernetesExecutor\n",
    "logs:\n",
    "  persistence:\n",
    "    enabled: true\n",
    "\n",
    "# dags\n",
    "dags:\n",
    "  persistence:\n",
    "    enabled: true\n",
    "    existingClaim: airflow-dags"
   ]
  },
  {
   "cell_type": "code",
   "execution_count": 5,
   "id": "397513d8-52cb-46a5-864d-9d414da0ff10",
   "metadata": {},
   "outputs": [
    {
     "name": "stdout",
     "output_type": "stream",
     "text": [
      "Writing Dockerfile\n"
     ]
    }
   ],
   "source": [
    "%%writefile Dockerfile\n",
    "FROM apache/airflow:latest\n",
    "\n",
    "RUN python3 -m pip install --no-cache-dir -U pip wheel \\\n",
    "    && pip install --no-cache-dir -U \\\n",
    "        scrapy \\\n",
    "    && pip check"
   ]
  },
  {
   "cell_type": "code",
   "execution_count": 6,
   "id": "d6c70faf-bf90-4294-a9c0-b5ba03dd75d7",
   "metadata": {},
   "outputs": [
    {
     "name": "stdout",
     "output_type": "stream",
     "text": [
      "Writing build.sh\n"
     ]
    }
   ],
   "source": [
    "%%writefile build.sh\n",
    "#!/bin/bash\n",
    "\n",
    "docker build . --no-cache --pull \\\n",
    "-f Dockerfile \\\n",
    "-t darklemon/airflow:latest\n",
    "\n",
    "docker push darklemon/airflow:latest\n",
    "\n",
    "microk8s helm3 upgrade \\\n",
    "--install airflow apache-airflow/airflow \\\n",
    "--namespace airflow \\\n",
    "-f override.yaml\n",
    "\n",
    "docker rmi darklemon/airflow:latest\n",
    "docker rmi apache/airflow:latest"
   ]
  },
  {
   "cell_type": "markdown",
   "id": "1255bb9b-afe0-46e9-929b-46c4b949c041",
   "metadata": {},
   "source": [
    "## Webserver"
   ]
  },
  {
   "cell_type": "code",
   "execution_count": 1,
   "id": "04127a85-f23f-4771-bf74-d8ee25250ead",
   "metadata": {},
   "outputs": [
    {
     "name": "stdout",
     "output_type": "stream",
     "text": [
      "Writing /home/meng/work/Airflow/run_webserver.sh\n"
     ]
    }
   ],
   "source": [
    "%%writefile ~/work/Airflow/run_webserver.sh\n",
    "#!/bin/bash\n",
    "\n",
    "microk8s kubectl port-forward svc/airflow-webserver 8080:8080 --namespace airflow"
   ]
  },
  {
   "cell_type": "markdown",
   "id": "88faf702-737f-4e86-b73e-82fc3815a029",
   "metadata": {},
   "source": [
    "## Dags - example"
   ]
  },
  {
   "cell_type": "code",
   "execution_count": null,
   "id": "ba5bbf7a-4384-4e1d-b1fc-4101e7ce4b23",
   "metadata": {},
   "outputs": [],
   "source": [
    "%%writefile ~/work/Airflow/dags/tutorial.py\n",
    "import datetime\n",
    "from airflow import DAG\n",
    "from airflow.operators.bash import BashOperator\n",
    "\n",
    "yesterday = datetime.datetime.combine(\n",
    "    datetime.datetime.today() - datetime.timedelta(1),\n",
    "    datetime.datetime.min.time())\n",
    "\n",
    "with DAG(\n",
    "    dag_id=\"tutorial\",\n",
    "    start_date=yesterday,\n",
    "    schedule_interval=\"@hourly\"\n",
    ") as dag:\n",
    "\n",
    "    t1 = BashOperator(\n",
    "        task_id=\"echo\",\n",
    "        bash_command=\"echo $PWD\"\n",
    "    )\n",
    "    t1"
   ]
  },
  {
   "cell_type": "markdown",
   "id": "f31d294e-2f76-47b1-99ac-c38e0be411a0",
   "metadata": {},
   "source": [
    "## Uninstall"
   ]
  },
  {
   "cell_type": "code",
   "execution_count": 1,
   "id": "fd736bbe-37ac-4909-afe6-45c173e9e514",
   "metadata": {},
   "outputs": [
    {
     "name": "stdout",
     "output_type": "stream",
     "text": [
      "Overwriting uninstall.sh\n"
     ]
    }
   ],
   "source": [
    "%%writefile uninstall.sh\n",
    "#!/bin/bash\n",
    "\n",
    "microk8s helm3 delete airflow \\\n",
    "--namespace airflow\n",
    "microk8s helm3 repo rm apache-airflow\n",
    "microk8s kubectl delete -f pv_dags.yaml\n",
    "microk8s kubectl delete -f pvc_dags.yaml\n",
    "microk8s kubectl delete ns airflow\n",
    "microk8s ctr images rm $(microk8s ctr images ls name~='airflow' | awk {'print $1'})"
   ]
  }
 ],
 "metadata": {
  "kernelspec": {
   "display_name": "Python 3 (ipykernel)",
   "language": "python",
   "name": "python3"
  },
  "language_info": {
   "codemirror_mode": {
    "name": "ipython",
    "version": 3
   },
   "file_extension": ".py",
   "mimetype": "text/x-python",
   "name": "python",
   "nbconvert_exporter": "python",
   "pygments_lexer": "ipython3",
   "version": "3.8.10"
  }
 },
 "nbformat": 4,
 "nbformat_minor": 5
}
